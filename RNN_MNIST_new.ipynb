{
 "cells": [
  {
   "cell_type": "markdown",
   "metadata": {},
   "source": [
    "# Recurrent Neural Network as a Sequence Classsifier\n",
    "Let us train an RNN to classify MNIST images.   \n",
    "We will treat each image as a sequence of 28 rows of 28 pixels each."
   ]
  },
  {
   "cell_type": "markdown",
   "metadata": {},
   "source": [
    "We will use cells of 150 neurons and a fully connected layer containing 10 neurons connected to output of last time step  \n",
    "Apply softmax to get probabilities for each class"
   ]
  },
  {
   "cell_type": "markdown",
   "metadata": {},
   "source": [
    "## 1. Dependencies\n"
   ]
  },
  {
   "cell_type": "code",
   "execution_count": 1,
   "metadata": {
    "collapsed": true
   },
   "outputs": [],
   "source": [
    "import tensorflow as tf"
   ]
  },
  {
   "cell_type": "markdown",
   "metadata": {},
   "source": [
    "## 2. Hyperparameters\n"
   ]
  },
  {
   "cell_type": "code",
   "execution_count": 2,
   "metadata": {
    "collapsed": true
   },
   "outputs": [],
   "source": [
    "# No of steps = 28 \n",
    "# We've considered a sequence of length 28 here\n",
    "n_steps = 28"
   ]
  },
  {
   "cell_type": "code",
   "execution_count": 3,
   "metadata": {
    "collapsed": true
   },
   "outputs": [],
   "source": [
    "# no of inputs per step = 28 \n",
    "# we will feed row of 28 pixels at each time step\n",
    "n_inputs = 28"
   ]
  },
  {
   "cell_type": "code",
   "execution_count": 4,
   "metadata": {
    "collapsed": true
   },
   "outputs": [],
   "source": [
    "# Let us take 150 neurons for each RNN cell\n",
    "n_neurons= 150"
   ]
  },
  {
   "cell_type": "code",
   "execution_count": 5,
   "metadata": {
    "collapsed": true
   },
   "outputs": [],
   "source": [
    "# output neurons = 10 ie. one for each class\n",
    "n_outputs = 10"
   ]
  },
  {
   "cell_type": "code",
   "execution_count": 6,
   "metadata": {
    "collapsed": true
   },
   "outputs": [],
   "source": [
    "# Learning rate\n",
    "r = 0.001"
   ]
  },
  {
   "cell_type": "markdown",
   "metadata": {},
   "source": [
    "## 3. Construct Graph"
   ]
  },
  {
   "cell_type": "markdown",
   "metadata": {},
   "source": [
    "### Placeholders for feeding data to graph"
   ]
  },
  {
   "cell_type": "code",
   "execution_count": 7,
   "metadata": {
    "collapsed": true
   },
   "outputs": [],
   "source": [
    "X = tf.placeholder(tf.float32,[None,n_steps,n_inputs])\n",
    "y = tf.placeholder(tf.int32,[None])"
   ]
  },
  {
   "cell_type": "markdown",
   "metadata": {},
   "source": [
    "### Create a RNN cell factory"
   ]
  },
  {
   "cell_type": "code",
   "execution_count": 8,
   "metadata": {
    "collapsed": false
   },
   "outputs": [],
   "source": [
    "basic_cell = tf.contrib.rnn.BasicRNNCell(num_units = n_neurons)"
   ]
  },
  {
   "cell_type": "markdown",
   "metadata": {},
   "source": [
    "### Create a RNN through 28 time steps each of RNN cell containing 150 neurons"
   ]
  },
  {
   "cell_type": "code",
   "execution_count": 9,
   "metadata": {
    "collapsed": false
   },
   "outputs": [],
   "source": [
    "outputs, states = tf.nn.dynamic_rnn(basic_cell, X, dtype=tf.float32)"
   ]
  },
  {
   "cell_type": "markdown",
   "metadata": {},
   "source": [
    "### Fully Connected layer connected to last time step\n",
    "In this case 'states' tensor contains the last time step"
   ]
  },
  {
   "cell_type": "code",
   "execution_count": 10,
   "metadata": {
    "collapsed": true
   },
   "outputs": [],
   "source": [
    "logits = tf.layers.dense(states,n_outputs)"
   ]
  },
  {
   "cell_type": "markdown",
   "metadata": {},
   "source": [
    "### Apply Softmax Cross Entropy to get the error\n"
   ]
  },
  {
   "cell_type": "code",
   "execution_count": 11,
   "metadata": {
    "collapsed": false
   },
   "outputs": [],
   "source": [
    "error = tf.nn.sparse_softmax_cross_entropy_with_logits(labels=y, logits=logits)\n",
    "loss = tf.reduce_mean(error)\n"
   ]
  },
  {
   "cell_type": "markdown",
   "metadata": {},
   "source": [
    "### Optimizer and training operation\n"
   ]
  },
  {
   "cell_type": "code",
   "execution_count": 12,
   "metadata": {
    "collapsed": true
   },
   "outputs": [],
   "source": [
    "optimizer = tf.train.AdamOptimizer(learning_rate = r)\n",
    "training_op = optimizer.minimize(loss)"
   ]
  },
  {
   "cell_type": "markdown",
   "metadata": {},
   "source": [
    "###  Accuracy\n"
   ]
  },
  {
   "cell_type": "code",
   "execution_count": 13,
   "metadata": {
    "collapsed": false
   },
   "outputs": [],
   "source": [
    "correct_pred = tf.nn.in_top_k(logits,y,1)\n",
    "acc = tf.reduce_mean(tf.cast(correct_pred, tf.float32))"
   ]
  },
  {
   "cell_type": "markdown",
   "metadata": {},
   "source": [
    "### Create summary for TensorBoard Visualization"
   ]
  },
  {
   "cell_type": "code",
   "execution_count": 14,
   "metadata": {
    "collapsed": true
   },
   "outputs": [],
   "source": [
    "summary = tf.summary.scalar('Loss',loss)\n",
    "file_writer = tf.summary.FileWriter(\"tf_logs/\",tf.get_default_graph())"
   ]
  },
  {
   "cell_type": "markdown",
   "metadata": {},
   "source": [
    "## 4. Load data"
   ]
  },
  {
   "cell_type": "code",
   "execution_count": 15,
   "metadata": {
    "collapsed": false
   },
   "outputs": [
    {
     "name": "stdout",
     "output_type": "stream",
     "text": [
      "Successfully downloaded train-images-idx3-ubyte.gz 9912422 bytes.\n",
      "Extracting /tmp/data/train-images-idx3-ubyte.gz\n",
      "Successfully downloaded train-labels-idx1-ubyte.gz 28881 bytes.\n",
      "Extracting /tmp/data/train-labels-idx1-ubyte.gz\n",
      "Successfully downloaded t10k-images-idx3-ubyte.gz 1648877 bytes.\n",
      "Extracting /tmp/data/t10k-images-idx3-ubyte.gz\n",
      "Successfully downloaded t10k-labels-idx1-ubyte.gz 4542 bytes.\n",
      "Extracting /tmp/data/t10k-labels-idx1-ubyte.gz\n"
     ]
    }
   ],
   "source": [
    "from tensorflow.examples.tutorials.mnist import input_data\n",
    "\n",
    "mnist = input_data.read_data_sets(\"/tmp/data/\")"
   ]
  },
  {
   "cell_type": "markdown",
   "metadata": {},
   "source": [
    "### Reshape test data\n"
   ]
  },
  {
   "cell_type": "code",
   "execution_count": 16,
   "metadata": {
    "collapsed": true
   },
   "outputs": [],
   "source": [
    "X_test = mnist.test.images.reshape(-1,n_steps,n_inputs) \n",
    "y_test = mnist.test.labels"
   ]
  },
  {
   "cell_type": "markdown",
   "metadata": {},
   "source": [
    "## 5. Train RNN"
   ]
  },
  {
   "cell_type": "code",
   "execution_count": 17,
   "metadata": {
    "collapsed": true
   },
   "outputs": [],
   "source": [
    "n_epochs = 100\n",
    "batch_size = 150"
   ]
  },
  {
   "cell_type": "code",
   "execution_count": 18,
   "metadata": {
    "collapsed": true
   },
   "outputs": [],
   "source": [
    "init = tf.global_variables_initializer()"
   ]
  },
  {
   "cell_type": "markdown",
   "metadata": {},
   "source": [
    "### Create a Session\n"
   ]
  },
  {
   "cell_type": "code",
   "execution_count": 20,
   "metadata": {
    "collapsed": false
   },
   "outputs": [
    {
     "name": "stdout",
     "output_type": "stream",
     "text": [
      "0  Train Accuracy :  0.933333 Test Accuracy 0.9223\n",
      "1  Train Accuracy :  0.973333 Test Accuracy 0.9555\n",
      "2  Train Accuracy :  0.973333 Test Accuracy 0.9603\n",
      "3  Train Accuracy :  0.973333 Test Accuracy 0.9648\n",
      "4  Train Accuracy :  0.953333 Test Accuracy 0.9576\n",
      "5  Train Accuracy :  0.986667 Test Accuracy 0.9548\n",
      "6  Train Accuracy :  0.973333 Test Accuracy 0.9717\n",
      "7  Train Accuracy :  0.986667 Test Accuracy 0.9663\n",
      "8  Train Accuracy :  0.96 Test Accuracy 0.9662\n",
      "9  Train Accuracy :  0.98 Test Accuracy 0.9684\n",
      "10  Train Accuracy :  0.98 Test Accuracy 0.9727\n",
      "11  Train Accuracy :  0.98 Test Accuracy 0.9706\n",
      "12  Train Accuracy :  0.986667 Test Accuracy 0.971\n",
      "13  Train Accuracy :  0.986667 Test Accuracy 0.9774\n",
      "14  Train Accuracy :  0.986667 Test Accuracy 0.9708\n",
      "15  Train Accuracy :  1.0 Test Accuracy 0.9773\n",
      "16  Train Accuracy :  0.986667 Test Accuracy 0.9762\n",
      "17  Train Accuracy :  0.993333 Test Accuracy 0.9758\n",
      "18  Train Accuracy :  0.993333 Test Accuracy 0.9763\n",
      "19  Train Accuracy :  0.993333 Test Accuracy 0.9727\n",
      "20  Train Accuracy :  0.986667 Test Accuracy 0.9715\n",
      "21  Train Accuracy :  0.993333 Test Accuracy 0.976\n",
      "22  Train Accuracy :  0.993333 Test Accuracy 0.9754\n",
      "23  Train Accuracy :  0.993333 Test Accuracy 0.9773\n",
      "24  Train Accuracy :  1.0 Test Accuracy 0.9792\n",
      "25  Train Accuracy :  0.993333 Test Accuracy 0.9737\n",
      "26  Train Accuracy :  0.986667 Test Accuracy 0.9713\n",
      "27  Train Accuracy :  0.986667 Test Accuracy 0.9722\n",
      "28  Train Accuracy :  0.993333 Test Accuracy 0.9745\n",
      "29  Train Accuracy :  0.993333 Test Accuracy 0.975\n",
      "30  Train Accuracy :  0.98 Test Accuracy 0.9714\n",
      "31  Train Accuracy :  0.993333 Test Accuracy 0.978\n",
      "32  Train Accuracy :  0.986667 Test Accuracy 0.9719\n",
      "33  Train Accuracy :  0.993333 Test Accuracy 0.977\n",
      "34  Train Accuracy :  1.0 Test Accuracy 0.9774\n",
      "35  Train Accuracy :  0.986667 Test Accuracy 0.9764\n",
      "36  Train Accuracy :  0.986667 Test Accuracy 0.9689\n",
      "37  Train Accuracy :  0.993333 Test Accuracy 0.9743\n",
      "38  Train Accuracy :  0.993333 Test Accuracy 0.9766\n",
      "39  Train Accuracy :  1.0 Test Accuracy 0.9797\n",
      "40  Train Accuracy :  0.993333 Test Accuracy 0.9771\n",
      "41  Train Accuracy :  1.0 Test Accuracy 0.9776\n",
      "42  Train Accuracy :  0.986667 Test Accuracy 0.9768\n",
      "43  Train Accuracy :  0.993333 Test Accuracy 0.9774\n",
      "44  Train Accuracy :  1.0 Test Accuracy 0.9789\n",
      "45  Train Accuracy :  1.0 Test Accuracy 0.9767\n",
      "46  Train Accuracy :  0.986667 Test Accuracy 0.9713\n",
      "47  Train Accuracy :  0.993333 Test Accuracy 0.98\n",
      "48  Train Accuracy :  0.986667 Test Accuracy 0.977\n",
      "49  Train Accuracy :  1.0 Test Accuracy 0.9768\n",
      "50  Train Accuracy :  0.986667 Test Accuracy 0.9753\n",
      "51  Train Accuracy :  0.993333 Test Accuracy 0.9765\n",
      "52  Train Accuracy :  1.0 Test Accuracy 0.9785\n",
      "53  Train Accuracy :  1.0 Test Accuracy 0.9806\n",
      "54  Train Accuracy :  0.986667 Test Accuracy 0.9795\n",
      "55  Train Accuracy :  1.0 Test Accuracy 0.9785\n",
      "56  Train Accuracy :  0.993333 Test Accuracy 0.9788\n",
      "57  Train Accuracy :  1.0 Test Accuracy 0.9813\n",
      "58  Train Accuracy :  0.986667 Test Accuracy 0.9758\n",
      "59  Train Accuracy :  1.0 Test Accuracy 0.9787\n",
      "60  Train Accuracy :  0.993333 Test Accuracy 0.9777\n",
      "61  Train Accuracy :  0.986667 Test Accuracy 0.9731\n",
      "62  Train Accuracy :  0.993333 Test Accuracy 0.9791\n",
      "63  Train Accuracy :  0.993333 Test Accuracy 0.9692\n",
      "64  Train Accuracy :  0.98 Test Accuracy 0.9752\n",
      "65  Train Accuracy :  0.986667 Test Accuracy 0.9786\n",
      "66  Train Accuracy :  0.986667 Test Accuracy 0.9764\n",
      "67  Train Accuracy :  0.993333 Test Accuracy 0.9767\n",
      "68  Train Accuracy :  1.0 Test Accuracy 0.9771\n",
      "69  Train Accuracy :  1.0 Test Accuracy 0.9784\n",
      "70  Train Accuracy :  0.98 Test Accuracy 0.976\n",
      "71  Train Accuracy :  1.0 Test Accuracy 0.9792\n",
      "72  Train Accuracy :  1.0 Test Accuracy 0.9789\n",
      "73  Train Accuracy :  1.0 Test Accuracy 0.9792\n",
      "74  Train Accuracy :  1.0 Test Accuracy 0.9731\n",
      "75  Train Accuracy :  0.98 Test Accuracy 0.9722\n",
      "76  Train Accuracy :  0.993333 Test Accuracy 0.9767\n",
      "77  Train Accuracy :  0.98 Test Accuracy 0.975\n",
      "78  Train Accuracy :  1.0 Test Accuracy 0.9775\n",
      "79  Train Accuracy :  0.993333 Test Accuracy 0.979\n",
      "80  Train Accuracy :  0.993333 Test Accuracy 0.9746\n",
      "81  Train Accuracy :  1.0 Test Accuracy 0.9768\n",
      "82  Train Accuracy :  1.0 Test Accuracy 0.9776\n",
      "83  Train Accuracy :  0.993333 Test Accuracy 0.9789\n",
      "84  Train Accuracy :  0.986667 Test Accuracy 0.9694\n",
      "85  Train Accuracy :  1.0 Test Accuracy 0.9787\n",
      "86  Train Accuracy :  0.993333 Test Accuracy 0.9787\n",
      "87  Train Accuracy :  0.993333 Test Accuracy 0.9768\n",
      "88  Train Accuracy :  0.986667 Test Accuracy 0.9783\n",
      "89  Train Accuracy :  0.993333 Test Accuracy 0.9798\n",
      "90  Train Accuracy :  1.0 Test Accuracy 0.9803\n",
      "91  Train Accuracy :  1.0 Test Accuracy 0.9783\n",
      "92  Train Accuracy :  1.0 Test Accuracy 0.9779\n",
      "93  Train Accuracy :  0.986667 Test Accuracy 0.9747\n",
      "94  Train Accuracy :  0.993333 Test Accuracy 0.9779\n",
      "95  Train Accuracy :  1.0 Test Accuracy 0.9782\n",
      "96  Train Accuracy :  1.0 Test Accuracy 0.9793\n",
      "97  Train Accuracy :  0.986667 Test Accuracy 0.9732\n",
      "98  Train Accuracy :  0.993333 Test Accuracy 0.9768\n",
      "99  Train Accuracy :  1.0 Test Accuracy 0.9804\n"
     ]
    }
   ],
   "source": [
    "with tf.Session() as sess:\n",
    "    init.run()\n",
    "    for epoch in range(n_epochs):\n",
    "        for iteration  in range(mnist.train.num_examples // batch_size):\n",
    "            # fetch nect batch \n",
    "            X_batch, y_batch = mnist.train.next_batch(batch_size)\n",
    "            # reshape it\n",
    "            X_batch = X_batch.reshape(-1,n_steps,n_inputs)\n",
    "            # run training operation\n",
    "            sess.run(training_op, feed_dict={X:X_batch, y:y_batch})\n",
    "            \n",
    "            ## add summary\n",
    "            summary_str = summary.eval(feed_dict={X:X_batch, y:y_batch})\n",
    "            step = epoch*(mnist.train.num_examples // batch_size) + iteration\n",
    "            file_writer.add_summary(summary_str,step)\n",
    "        # evalualate accuracy    \n",
    "        train_accuracy = acc.eval(feed_dict={X:X_batch, y:y_batch})\n",
    "        test_accuracy = acc.eval(feed_dict={X:X_test, y:y_test})\n",
    "        print(epoch,\" Train Accuracy : \", train_accuracy, \"Test Accuracy\", test_accuracy)\n",
    "        \n",
    "        "
   ]
  },
  {
   "cell_type": "code",
   "execution_count": 21,
   "metadata": {
    "collapsed": true
   },
   "outputs": [],
   "source": [
    "file_writer.close()"
   ]
  },
  {
   "cell_type": "markdown",
   "metadata": {},
   "source": [
    "# Visualizations\n",
    "### Computation Graph\n",
    "<img src=\"Graph.png\">"
   ]
  },
  {
   "cell_type": "markdown",
   "metadata": {},
   "source": [
    "## Loss \n",
    "<img src=\"Loss.png\">"
   ]
  }
 ],
 "metadata": {
  "kernelspec": {
   "display_name": "Python 3",
   "language": "python",
   "name": "python3"
  },
  "language_info": {
   "codemirror_mode": {
    "name": "ipython",
    "version": 3
   },
   "file_extension": ".py",
   "mimetype": "text/x-python",
   "name": "python",
   "nbconvert_exporter": "python",
   "pygments_lexer": "ipython3",
   "version": "3.6.0"
  }
 },
 "nbformat": 4,
 "nbformat_minor": 2
}
